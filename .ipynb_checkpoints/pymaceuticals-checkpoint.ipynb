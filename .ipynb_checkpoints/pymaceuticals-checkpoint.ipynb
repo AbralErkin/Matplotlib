{
 "cells": [
  {
   "cell_type": "markdown",
   "metadata": {},
   "source": [
    "# Observations from the results:\n",
    "1. From the Capomulin Treatment of MouseI509, the tumor volume increased in the first 20 days after treatment, then start to decrease obviously with some small bounce back.\n",
    "2. The average tumor volume and the weight of the mouse have strong positive correlation. The larger the tumor volume, the larger the mouse weight.\n",
    "3. The Capomulin is one of the most effective drug as the final tumor volume is the smallest after the treatment."
   ]
  },
  {
   "cell_type": "code",
   "execution_count": 55,
   "metadata": {},
   "outputs": [],
   "source": [
    "#import required libraries\n",
    "\n",
    "import matplotlib.pyplot as plt\n",
    "import pandas as pd\n",
    "import scipy.stats as st\n",
    "import numpy as np"
   ]
  },
  {
   "cell_type": "code",
   "execution_count": 56,
   "metadata": {},
   "outputs": [],
   "source": [
    "# Read the given dataset and generate dataframe\n",
    "metadata = \"./data/mouse_metadata.csv\"\n",
    "study_results = \"./data/Study_results.csv\"\n",
    "\n",
    "meta_df = pd.read_csv(metadata,delimiter=\",\")\n",
    "results_df = pd.read_csv(study_results,delimiter=\",\")"
   ]
  },
  {
   "cell_type": "code",
   "execution_count": 57,
   "metadata": {
    "scrolled": true
   },
   "outputs": [
    {
     "data": {
      "text/html": [
       "<div>\n",
       "<style scoped>\n",
       "    .dataframe tbody tr th:only-of-type {\n",
       "        vertical-align: middle;\n",
       "    }\n",
       "\n",
       "    .dataframe tbody tr th {\n",
       "        vertical-align: top;\n",
       "    }\n",
       "\n",
       "    .dataframe thead th {\n",
       "        text-align: right;\n",
       "    }\n",
       "</style>\n",
       "<table border=\"1\" class=\"dataframe\">\n",
       "  <thead>\n",
       "    <tr style=\"text-align: right;\">\n",
       "      <th></th>\n",
       "      <th>Mouse ID</th>\n",
       "      <th>Timepoint</th>\n",
       "      <th>Tumor Volume (mm3)</th>\n",
       "      <th>Metastatic Sites</th>\n",
       "      <th>Drug Regimen</th>\n",
       "      <th>Sex</th>\n",
       "      <th>Age_months</th>\n",
       "      <th>Weight (g)</th>\n",
       "    </tr>\n",
       "  </thead>\n",
       "  <tbody>\n",
       "    <tr>\n",
       "      <th>0</th>\n",
       "      <td>b128</td>\n",
       "      <td>0</td>\n",
       "      <td>45.0</td>\n",
       "      <td>0</td>\n",
       "      <td>Capomulin</td>\n",
       "      <td>Female</td>\n",
       "      <td>9</td>\n",
       "      <td>22</td>\n",
       "    </tr>\n",
       "    <tr>\n",
       "      <th>1</th>\n",
       "      <td>f932</td>\n",
       "      <td>0</td>\n",
       "      <td>45.0</td>\n",
       "      <td>0</td>\n",
       "      <td>Ketapril</td>\n",
       "      <td>Male</td>\n",
       "      <td>15</td>\n",
       "      <td>29</td>\n",
       "    </tr>\n",
       "    <tr>\n",
       "      <th>2</th>\n",
       "      <td>g107</td>\n",
       "      <td>0</td>\n",
       "      <td>45.0</td>\n",
       "      <td>0</td>\n",
       "      <td>Ketapril</td>\n",
       "      <td>Female</td>\n",
       "      <td>2</td>\n",
       "      <td>29</td>\n",
       "    </tr>\n",
       "    <tr>\n",
       "      <th>3</th>\n",
       "      <td>a457</td>\n",
       "      <td>0</td>\n",
       "      <td>45.0</td>\n",
       "      <td>0</td>\n",
       "      <td>Ketapril</td>\n",
       "      <td>Female</td>\n",
       "      <td>11</td>\n",
       "      <td>30</td>\n",
       "    </tr>\n",
       "    <tr>\n",
       "      <th>4</th>\n",
       "      <td>c819</td>\n",
       "      <td>0</td>\n",
       "      <td>45.0</td>\n",
       "      <td>0</td>\n",
       "      <td>Ketapril</td>\n",
       "      <td>Male</td>\n",
       "      <td>21</td>\n",
       "      <td>25</td>\n",
       "    </tr>\n",
       "  </tbody>\n",
       "</table>\n",
       "</div>"
      ],
      "text/plain": [
       "  Mouse ID  Timepoint  Tumor Volume (mm3)  Metastatic Sites Drug Regimen  \\\n",
       "0     b128          0                45.0                 0    Capomulin   \n",
       "1     f932          0                45.0                 0     Ketapril   \n",
       "2     g107          0                45.0                 0     Ketapril   \n",
       "3     a457          0                45.0                 0     Ketapril   \n",
       "4     c819          0                45.0                 0     Ketapril   \n",
       "\n",
       "      Sex  Age_months  Weight (g)  \n",
       "0  Female           9          22  \n",
       "1    Male          15          29  \n",
       "2  Female           2          29  \n",
       "3  Female          11          30  \n",
       "4    Male          21          25  "
      ]
     },
     "execution_count": 57,
     "metadata": {},
     "output_type": "execute_result"
    }
   ],
   "source": [
    "# Combine the data into a single dataset\n",
    "results_df=results_df.merge(meta_df,on=\"Mouse ID\",how=\"left\")\n",
    "results_df.head()"
   ]
  },
  {
   "cell_type": "code",
   "execution_count": 58,
   "metadata": {},
   "outputs": [
    {
     "data": {
      "text/html": [
       "<div>\n",
       "<style scoped>\n",
       "    .dataframe tbody tr th:only-of-type {\n",
       "        vertical-align: middle;\n",
       "    }\n",
       "\n",
       "    .dataframe tbody tr th {\n",
       "        vertical-align: top;\n",
       "    }\n",
       "\n",
       "    .dataframe thead th {\n",
       "        text-align: right;\n",
       "    }\n",
       "</style>\n",
       "<table border=\"1\" class=\"dataframe\">\n",
       "  <thead>\n",
       "    <tr style=\"text-align: right;\">\n",
       "      <th></th>\n",
       "      <th>Mean Tumor Volume</th>\n",
       "      <th>Median Tumor Volume</th>\n",
       "      <th>Tumor Volume Variance</th>\n",
       "      <th>Tumor Volume Std. Err.</th>\n",
       "    </tr>\n",
       "    <tr>\n",
       "      <th>Drug Regimen</th>\n",
       "      <th></th>\n",
       "      <th></th>\n",
       "      <th></th>\n",
       "      <th></th>\n",
       "    </tr>\n",
       "  </thead>\n",
       "  <tbody>\n",
       "    <tr>\n",
       "      <th>Capomulin</th>\n",
       "      <td>40.675741</td>\n",
       "      <td>41.557809</td>\n",
       "      <td>24.947764</td>\n",
       "      <td>0.329346</td>\n",
       "    </tr>\n",
       "    <tr>\n",
       "      <th>Ceftamin</th>\n",
       "      <td>52.591172</td>\n",
       "      <td>51.776157</td>\n",
       "      <td>39.290177</td>\n",
       "      <td>0.469821</td>\n",
       "    </tr>\n",
       "    <tr>\n",
       "      <th>Infubinol</th>\n",
       "      <td>52.884795</td>\n",
       "      <td>51.820584</td>\n",
       "      <td>43.128684</td>\n",
       "      <td>0.492236</td>\n",
       "    </tr>\n",
       "    <tr>\n",
       "      <th>Ketapril</th>\n",
       "      <td>55.235638</td>\n",
       "      <td>53.698743</td>\n",
       "      <td>68.553577</td>\n",
       "      <td>0.603860</td>\n",
       "    </tr>\n",
       "    <tr>\n",
       "      <th>Naftisol</th>\n",
       "      <td>54.331565</td>\n",
       "      <td>52.509285</td>\n",
       "      <td>66.173479</td>\n",
       "      <td>0.596466</td>\n",
       "    </tr>\n",
       "    <tr>\n",
       "      <th>Placebo</th>\n",
       "      <td>54.033581</td>\n",
       "      <td>52.288934</td>\n",
       "      <td>61.168083</td>\n",
       "      <td>0.581331</td>\n",
       "    </tr>\n",
       "    <tr>\n",
       "      <th>Propriva</th>\n",
       "      <td>52.322552</td>\n",
       "      <td>50.854632</td>\n",
       "      <td>42.351070</td>\n",
       "      <td>0.512884</td>\n",
       "    </tr>\n",
       "    <tr>\n",
       "      <th>Ramicane</th>\n",
       "      <td>40.216745</td>\n",
       "      <td>40.673236</td>\n",
       "      <td>23.486704</td>\n",
       "      <td>0.320955</td>\n",
       "    </tr>\n",
       "    <tr>\n",
       "      <th>Stelasyn</th>\n",
       "      <td>54.233149</td>\n",
       "      <td>52.431737</td>\n",
       "      <td>59.450562</td>\n",
       "      <td>0.573111</td>\n",
       "    </tr>\n",
       "    <tr>\n",
       "      <th>Zoniferol</th>\n",
       "      <td>53.236507</td>\n",
       "      <td>51.818479</td>\n",
       "      <td>48.533355</td>\n",
       "      <td>0.516398</td>\n",
       "    </tr>\n",
       "  </tbody>\n",
       "</table>\n",
       "</div>"
      ],
      "text/plain": [
       "              Mean Tumor Volume  Median Tumor Volume  Tumor Volume Variance  \\\n",
       "Drug Regimen                                                                  \n",
       "Capomulin             40.675741            41.557809              24.947764   \n",
       "Ceftamin              52.591172            51.776157              39.290177   \n",
       "Infubinol             52.884795            51.820584              43.128684   \n",
       "Ketapril              55.235638            53.698743              68.553577   \n",
       "Naftisol              54.331565            52.509285              66.173479   \n",
       "Placebo               54.033581            52.288934              61.168083   \n",
       "Propriva              52.322552            50.854632              42.351070   \n",
       "Ramicane              40.216745            40.673236              23.486704   \n",
       "Stelasyn              54.233149            52.431737              59.450562   \n",
       "Zoniferol             53.236507            51.818479              48.533355   \n",
       "\n",
       "              Tumor Volume Std. Err.  \n",
       "Drug Regimen                          \n",
       "Capomulin                   0.329346  \n",
       "Ceftamin                    0.469821  \n",
       "Infubinol                   0.492236  \n",
       "Ketapril                    0.603860  \n",
       "Naftisol                    0.596466  \n",
       "Placebo                     0.581331  \n",
       "Propriva                    0.512884  \n",
       "Ramicane                    0.320955  \n",
       "Stelasyn                    0.573111  \n",
       "Zoniferol                   0.516398  "
      ]
     },
     "execution_count": 58,
     "metadata": {},
     "output_type": "execute_result"
    }
   ],
   "source": [
    "# Generate a summary statistics table of mean, median, variance, standard deviation, and SEM of the tumor volume for each regimen\n",
    "drug_group = results_df.groupby(\"Drug Regimen\")\n",
    "stat_sum = drug_group[\"Tumor Volume (mm3)\"].describe().rename(columns = {\"mean\": \"Mean Tumor Volume\",\"std\": \"Tumor Volume Std. Dev.\"})\n",
    "stat_sum.drop([\"count\",\"min\",\"25%\",\"50%\",\"75%\",\"max\"],axis =1,inplace = True)\n",
    "stat_sum[\"Median Tumor Volume\"]=drug_group[\"Tumor Volume (mm3)\"].median()\n",
    "stat_sum[\"Tumor Volume Variance\"]=drug_group[\"Tumor Volume (mm3)\"].var()\n",
    "stat_sum[\"Tumor Volume Std. Err.\"]=drug_group[\"Tumor Volume (mm3)\"].sem()\n",
    "stat_sum = stat_sum[[\"Mean Tumor Volume\",\"Median Tumor Volume\",\"Tumor Volume Variance\",\"Tumor Volume Std. Err.\"]]\n",
    "stat_sum"
   ]
  },
  {
   "cell_type": "code",
   "execution_count": 59,
   "metadata": {},
   "outputs": [
    {
     "data": {
      "image/png": "[encoded data removed]",
      "text/plain": [
       "<Figure size 432x288 with 1 Axes>"
      ]
     },
     "metadata": {
      "needs_background": "light"
     },
     "output_type": "display_data"
    }
   ],
   "source": [
    "# Generate a bar plot showing number of data points for each treatment regimen using pandas\n",
    "vol_count = drug_group[\"Mouse ID\"].count()\n",
    "bar_plot1 = vol_count.plot.bar()\n",
    "bar_plot1 = bar_plot1.set_ylabel(\"Number of Data Points\")"
   ]
  },
  {
   "cell_type": "code",
   "execution_count": 60,
   "metadata": {},
   "outputs": [
    {
     "data": {
      "image/png": "[encoded data removed]",
      "text/plain": [
       "<Figure size 432x288 with 1 Axes>"
      ]
     },
     "metadata": {
      "needs_background": "light"
     },
     "output_type": "display_data"
    }
   ],
   "source": [
    "# Generate a bar plot showing number of data points for each treatment regimen using pyplot\n",
    "y_axis = vol_count.tolist()\n",
    "x_axis = results_df[\"Drug Regimen\"].unique()\n",
    "plt.xticks(rotation = \"vertical\")\n",
    "plt.xlabel(\"Drug Regimen\")\n",
    "plt.ylabel(\"Number of Data Points\")\n",
    "bar_plot2=plt.bar(x_axis,y_axis,align=\"center\")"
   ]
  },
  {
   "cell_type": "code",
   "execution_count": 61,
   "metadata": {},
   "outputs": [
    {
     "data": {
      "image/png": "[encoded data removed]",
      "text/plain": [
       "<Figure size 432x288 with 1 Axes>"
      ]
     },
     "metadata": {},
     "output_type": "display_data"
    }
   ],
   "source": [
    "# Generate a pie plot showing the distribution of female versus male mice using pandas\n",
    "sex_group = results_df.groupby(\"Sex\")\n",
    "sex_count = sex_group[\"Mouse ID\"].count()\n",
    "pie_plot1 = sex_count.plot.pie(autopct=\"%1.1f%%\",shadow = True,explode = [0.05,0])\n",
    "ylabel=plt.ylabel(\"Sex\")"
   ]
  },
  {
   "cell_type": "code",
   "execution_count": 62,
   "metadata": {},
   "outputs": [
    {
     "data": {
      "image/png": "[encoded data removed]",
      "text/plain": [
       "<Figure size 432x288 with 1 Axes>"
      ]
     },
     "metadata": {},
     "output_type": "display_data"
    }
   ],
   "source": [
    "# Generate a pie plot showing the distribution of female versus male mice using pyplot\n",
    "sex_size = sex_count.tolist()\n",
    "labels = results_df[\"Sex\"].unique()\n",
    "explode = [0.05,0]\n",
    "pie_plot2 = plt.pie(sex_size,labels = labels,explode = explode,shadow = True,autopct=\"%1.1f%%\")\n",
    "ylabel=plt.ylabel(\"Sex\")"
   ]
  },
  {
   "cell_type": "code",
   "execution_count": 63,
   "metadata": {},
   "outputs": [
    {
     "name": "stdout",
     "output_type": "stream",
     "text": [
      "Results for Capomulin\n",
      "=====================\n",
      "The lower quartile of final tumor volume for Capomulin is 32.38:\n",
      "The upper quartile of final tumor volume for Capomulin is 40.16:\n",
      "The interquartile range of final tumor volume Capomulin Capomulin is: 7.78\n",
      "\n",
      "Results for Ramicane\n",
      "=====================\n",
      "The lower quartile of final tumor volume for Ramicane is 31.56:\n",
      "The upper quartile of final tumor volume for Ramicane is 40.66:\n",
      "The interquartile range of final tumor volume Ramicane Capomulin is: 9.10\n",
      "\n",
      "Results for Infubinol\n",
      "=====================\n",
      "The lower quartile of final tumor volume for Infubinol is 54.05:\n",
      "The upper quartile of final tumor volume for Infubinol is 65.53:\n",
      "The interquartile range of final tumor volume Infubinol Capomulin is: 11.48\n",
      "\n",
      "Results for Ceftamin\n",
      "=====================\n",
      "The lower quartile of final tumor volume for Ceftamin is 48.72:\n",
      "The upper quartile of final tumor volume for Ceftamin is 64.30:\n",
      "The interquartile range of final tumor volume Ceftamin Capomulin is: 15.58\n",
      "\n",
      "Box plot below shows that, there is an outlier in final tumor volume for Infubinol!\n"
     ]
    },
    {
     "data": {
      "image/png": "[encoded data removed]",
      "text/plain": [
       "<Figure size 432x288 with 1 Axes>"
      ]
     },
     "metadata": {
      "needs_background": "light"
     },
     "output_type": "display_data"
    }
   ],
   "source": [
    "# Calculate the final tumor volume of each mouse across four of the most promising treatment regimens. Calculate the IQR and quantitatively determine if there are any potential outliers.\n",
    "a = results_df.loc[results_df[\"Drug Regimen\"].isin([\"Capomulin\",\"Ramicane\",\"Infubinol\",\"Ceftamin\"]),[\"Drug Regimen\",\"Mouse ID\",\"Timepoint\",\"Tumor Volume (mm3)\"]]\n",
    "b = a.groupby([\"Drug Regimen\",\"Mouse ID\"])\n",
    "c = b.apply(lambda g: g[g['Timepoint'] == g['Timepoint'].max()])\n",
    "cap = c.loc[c[\"Drug Regimen\"]==\"Capomulin\",\"Tumor Volume (mm3)\"]\n",
    "ram = c.loc[c[\"Drug Regimen\"]==\"Ramicane\",\"Tumor Volume (mm3)\"]\n",
    "inf = c.loc[c[\"Drug Regimen\"]==\"Infubinol\",\"Tumor Volume (mm3)\"]\n",
    "cef = c.loc[c[\"Drug Regimen\"]==\"Ceftamin\",\"Tumor Volume (mm3)\"]\n",
    "\n",
    "#define list for the quartiles\n",
    "lowerq=[]\n",
    "upperq=[]\n",
    "iqr = []\n",
    "#calculate the lower qurtiles\n",
    "lowerq.append(quart_cap[0.25])\n",
    "lowerq.append(quart_ram[0.25])\n",
    "lowerq.append(quart_inf[0.25])\n",
    "lowerq.append(quart_cef[0.25])\n",
    "#calculate the upper qurtiles\n",
    "upperq.append(quart_cap[0.75])\n",
    "upperq.append(quart_ram[0.75])\n",
    "upperq.append(quart_inf[0.75])\n",
    "upperq.append(quart_cef[0.75])\n",
    "#calculate the IQR\n",
    "iqr=np.subtract(upperq,lowerq)\n",
    "#plot the box plot\n",
    "fig1, ax1 = plt.subplots()\n",
    "ticks=[\"Capomulin\",\"Ramicane\",\"Infubinol\",\"Ceftamin\"]\n",
    "ax1.boxplot([cap,ram,inf,cef],flierprops=dict(markerfacecolor='r',markersize=12))\n",
    "plt.xticks([1,2,3,4],ticks)\n",
    "plt.ylabel(\"Final Tumor Volume (mm3)\")\n",
    "\n",
    "#Print the results out\n",
    "i=0\n",
    "for drugs in ticks:\n",
    "    print(\"Results for {}\".format(drugs))\n",
    "    print(\"=====================\")\n",
    "    print(\"The lower quartile of final tumor volume for {} is {:.2f}:\".format(drugs,lowerq[i]))\n",
    "    print(\"The upper quartile of final tumor volume for {} is {:.2f}:\".format(drugs,upperq[i]))\n",
    "    print(\"The interquartile range of final tumor volume {} Capomulin is: {:.2f}\\n\".format(drugs,iqr[i]))\n",
    "    i+=1\n",
    "print(\"Box plot below shows that, there is an outlier in final tumor volume for Infubinol!\")\n",
    "plt.show()\n",
    "\n"
   ]
  },
  {
   "cell_type": "code",
   "execution_count": 64,
   "metadata": {
    "scrolled": true
   },
   "outputs": [
    {
     "data": {
      "image/png": "[encoded data removed]",
      "text/plain": [
       "<Figure size 432x288 with 1 Axes>"
      ]
     },
     "metadata": {
      "needs_background": "light"
     },
     "output_type": "display_data"
    }
   ],
   "source": [
    "# Generate a line plot of time point versus tumor volume for a mouse treated with Capomulin\n",
    "mouse_capo = results_df.loc[results_df[\"Drug Regimen\"]==\"Capomulin\",[\"Mouse ID\",\"Timepoint\",\"Tumor Volume (mm3)\",\"Weight (g)\"]]\n",
    "mouse_capo1=pd.DataFrame(mouse_capo.groupby(\"Mouse ID\")).iloc[9,1]\n",
    "title = \"Capomulin Treatment of Mouse\"+mouse_capo1.iloc[0,0]\n",
    "line_plot1=mouse_capo1.plot(kind = \"line\",x = \"Timepoint\",y=\"Tumor Volume (mm3)\",title=title,legend=False)\n",
    "line_plot1.set_xlabel(\"Timepoint (Days)\")\n",
    "line_plot1.set_ylabel(\"Tumor Volume (mm3)\")\n",
    "plt.show()"
   ]
  },
  {
   "cell_type": "code",
   "execution_count": 65,
   "metadata": {},
   "outputs": [
    {
     "data": {
      "image/png": "[encoded data removed]",
      "text/plain": [
       "<Figure size 432x288 with 1 Axes>"
      ]
     },
     "metadata": {
      "needs_background": "light"
     },
     "output_type": "display_data"
    }
   ],
   "source": [
    "# Generate a scatter plot of mouse weight versus average tumor volume for the Capomulin regimen\n",
    "mouse_weight_df = pd.DataFrame(mouse_capo.groupby([\"Mouse ID\",\"Weight (g)\"])[\"Tumor Volume (mm3)\"].mean())\n",
    "x_axis = mouse_weight_df.index.get_level_values(1)\n",
    "y_axis = mouse_weight_df[\"Tumor Volume (mm3)\"]\n",
    "plt.xlabel(\"Weight (g)\")\n",
    "plt.ylabel(\"Average Tumor Volume (mm3)\")\n",
    "scatter_plot=plt.scatter(x_axis,y_axis)\n"
   ]
  },
  {
   "cell_type": "code",
   "execution_count": 66,
   "metadata": {},
   "outputs": [
    {
     "name": "stdout",
     "output_type": "stream",
     "text": [
      "The correlation between mouse weight and the average tumor volume is 0.84\n"
     ]
    },
    {
     "data": {
      "image/png": "[encoded data removed]",
      "text/plain": [
       "<Figure size 432x288 with 1 Axes>"
      ]
     },
     "metadata": {
      "needs_background": "light"
     },
     "output_type": "display_data"
    }
   ],
   "source": [
    "# Calculate the correlation coefficient and linear regression model for mouse weight and average tumor volume for the Capomulin regimen\n",
    "(slope, intercept, rvalue, pvalue, stderr) = st.linregress(x_axis, y_axis)\n",
    "regress_values = x_axis * slope + intercept\n",
    "plt.xlabel(\"Weight (g)\")\n",
    "plt.ylabel(\"Average Tumor Volume (mm3)\")\n",
    "scatter_plot=plt.scatter(x_axis,y_axis)\n",
    "plt.plot(x_axis,regress_values,\"r-\")\n",
    "print(\"The correlation between mouse weight and the average tumor volume is {:.2f}\".format(rvalue))\n",
    "plt.show()"
   ]
  }
 ],
 "metadata": {
  "kernelspec": {
   "display_name": "Python 3",
   "language": "python",
   "name": "python3"
  },
  "language_info": {
   "codemirror_mode": {
    "name": "ipython",
    "version": 3
   },
   "file_extension": ".py",
   "mimetype": "text/x-python",
   "name": "python",
   "nbconvert_exporter": "python",
   "pygments_lexer": "ipython3",
   "version": "3.7.6"
  }
 },
 "nbformat": 4,
 "nbformat_minor": 4
}
